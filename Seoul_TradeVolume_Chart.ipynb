{
 "cells": [
  {
   "cell_type": "code",
   "execution_count": 4,
   "metadata": {},
   "outputs": [],
   "source": [
    "import pandas as pd\n",
    "import numpy as np"
   ]
  },
  {
   "cell_type": "code",
   "execution_count": null,
   "metadata": {},
   "outputs": [],
   "source": [
    "sp = pd.read_csv('./data/seoul_2020.csv')"
   ]
  },
  {
   "cell_type": "code",
   "execution_count": 6,
   "metadata": {},
   "outputs": [
    {
     "name": "stdout",
     "output_type": "stream",
     "text": [
      "<class 'pandas.core.frame.DataFrame'>\n",
      "RangeIndex: 83155 entries, 0 to 83154\n",
      "Data columns (total 19 columns):\n",
      " #   Column   Non-Null Count  Dtype  \n",
      "---  ------   --------------  -----  \n",
      " 0   실거래가아이디  83155 non-null  object \n",
      " 1   지번코드     83155 non-null  object \n",
      " 2   시군구코드    83155 non-null  int64  \n",
      " 3   자치구명     83155 non-null  object \n",
      " 4   법정동코드    83155 non-null  int64  \n",
      " 5   법정동명     83155 non-null  object \n",
      " 6   신고년도     83155 non-null  int64  \n",
      " 7   업무구분코드   83155 non-null  int64  \n",
      " 8   업무구분     83155 non-null  object \n",
      " 9   물건번호     83155 non-null  int64  \n",
      " 10  대지권면적    83155 non-null  float64\n",
      " 11  건물면적     83155 non-null  float64\n",
      " 12  관리구분코드   83155 non-null  object \n",
      " 13  층정보      77063 non-null  float64\n",
      " 14  건물주용도코드  83155 non-null  int64  \n",
      " 15  건물주용도    83155 non-null  object \n",
      " 16  물건금액     83155 non-null  int64  \n",
      " 17  건축년도     83041 non-null  float64\n",
      " 18  건물명      77063 non-null  object \n",
      "dtypes: float64(4), int64(7), object(8)\n",
      "memory usage: 12.1+ MB\n"
     ]
    }
   ],
   "source": [
    "sp.info()"
   ]
  },
  {
   "cell_type": "code",
   "execution_count": 7,
   "metadata": {},
   "outputs": [
    {
     "data": {
      "text/html": [
       "<div>\n",
       "<style scoped>\n",
       "    .dataframe tbody tr th:only-of-type {\n",
       "        vertical-align: middle;\n",
       "    }\n",
       "\n",
       "    .dataframe tbody tr th {\n",
       "        vertical-align: top;\n",
       "    }\n",
       "\n",
       "    .dataframe thead th {\n",
       "        text-align: right;\n",
       "    }\n",
       "</style>\n",
       "<table border=\"1\" class=\"dataframe\">\n",
       "  <thead>\n",
       "    <tr style=\"text-align: right;\">\n",
       "      <th></th>\n",
       "      <th>실거래가아이디</th>\n",
       "      <th>지번코드</th>\n",
       "      <th>시군구코드</th>\n",
       "      <th>자치구명</th>\n",
       "      <th>법정동코드</th>\n",
       "      <th>법정동명</th>\n",
       "      <th>신고년도</th>\n",
       "      <th>업무구분코드</th>\n",
       "      <th>업무구분</th>\n",
       "      <th>물건번호</th>\n",
       "      <th>대지권면적</th>\n",
       "      <th>건물면적</th>\n",
       "      <th>관리구분코드</th>\n",
       "      <th>층정보</th>\n",
       "      <th>건물주용도코드</th>\n",
       "      <th>건물주용도</th>\n",
       "      <th>물건금액</th>\n",
       "      <th>건축년도</th>\n",
       "      <th>건물명</th>\n",
       "    </tr>\n",
       "  </thead>\n",
       "  <tbody>\n",
       "    <tr>\n",
       "      <th>0</th>\n",
       "      <td>11110-2020-4-0001489-1</td>\n",
       "      <td>1111017500101790012</td>\n",
       "      <td>11110</td>\n",
       "      <td>종로구</td>\n",
       "      <td>1111017500</td>\n",
       "      <td>숭인동</td>\n",
       "      <td>2020</td>\n",
       "      <td>4</td>\n",
       "      <td>신고</td>\n",
       "      <td>1</td>\n",
       "      <td>31.82</td>\n",
       "      <td>72.16</td>\n",
       "      <td>0</td>\n",
       "      <td>1.0</td>\n",
       "      <td>2002</td>\n",
       "      <td>연립주택</td>\n",
       "      <td>200000000</td>\n",
       "      <td>2003.0</td>\n",
       "      <td>카라하우스</td>\n",
       "    </tr>\n",
       "    <tr>\n",
       "      <th>1</th>\n",
       "      <td>11110-2020-4-0001490-1</td>\n",
       "      <td>1111017500101790012</td>\n",
       "      <td>11110</td>\n",
       "      <td>종로구</td>\n",
       "      <td>1111017500</td>\n",
       "      <td>숭인동</td>\n",
       "      <td>2020</td>\n",
       "      <td>4</td>\n",
       "      <td>신고</td>\n",
       "      <td>1</td>\n",
       "      <td>17.26</td>\n",
       "      <td>39.15</td>\n",
       "      <td>0</td>\n",
       "      <td>2.0</td>\n",
       "      <td>2002</td>\n",
       "      <td>연립주택</td>\n",
       "      <td>119000000</td>\n",
       "      <td>2003.0</td>\n",
       "      <td>카라하우스</td>\n",
       "    </tr>\n",
       "    <tr>\n",
       "      <th>2</th>\n",
       "      <td>11110-2020-4-0001450-1</td>\n",
       "      <td>1111017100100040000</td>\n",
       "      <td>11110</td>\n",
       "      <td>종로구</td>\n",
       "      <td>1111017100</td>\n",
       "      <td>명륜2가</td>\n",
       "      <td>2020</td>\n",
       "      <td>4</td>\n",
       "      <td>신고</td>\n",
       "      <td>1</td>\n",
       "      <td>0.00</td>\n",
       "      <td>84.90</td>\n",
       "      <td>0</td>\n",
       "      <td>12.0</td>\n",
       "      <td>2001</td>\n",
       "      <td>아파트</td>\n",
       "      <td>890000000</td>\n",
       "      <td>1995.0</td>\n",
       "      <td>아남1</td>\n",
       "    </tr>\n",
       "    <tr>\n",
       "      <th>3</th>\n",
       "      <td>11110-2020-4-0001541-1</td>\n",
       "      <td>1111017400106390050</td>\n",
       "      <td>11110</td>\n",
       "      <td>종로구</td>\n",
       "      <td>1111017400</td>\n",
       "      <td>창신동</td>\n",
       "      <td>2020</td>\n",
       "      <td>4</td>\n",
       "      <td>신고</td>\n",
       "      <td>1</td>\n",
       "      <td>0.00</td>\n",
       "      <td>59.22</td>\n",
       "      <td>0</td>\n",
       "      <td>2.0</td>\n",
       "      <td>2001</td>\n",
       "      <td>아파트</td>\n",
       "      <td>330000000</td>\n",
       "      <td>1999.0</td>\n",
       "      <td>덕산</td>\n",
       "    </tr>\n",
       "    <tr>\n",
       "      <th>4</th>\n",
       "      <td>11110-2020-4-0001491-1</td>\n",
       "      <td>1111017500101790012</td>\n",
       "      <td>11110</td>\n",
       "      <td>종로구</td>\n",
       "      <td>1111017500</td>\n",
       "      <td>숭인동</td>\n",
       "      <td>2020</td>\n",
       "      <td>4</td>\n",
       "      <td>신고</td>\n",
       "      <td>1</td>\n",
       "      <td>18.39</td>\n",
       "      <td>41.71</td>\n",
       "      <td>0</td>\n",
       "      <td>2.0</td>\n",
       "      <td>2002</td>\n",
       "      <td>연립주택</td>\n",
       "      <td>127000000</td>\n",
       "      <td>2003.0</td>\n",
       "      <td>카라하우스</td>\n",
       "    </tr>\n",
       "  </tbody>\n",
       "</table>\n",
       "</div>"
      ],
      "text/plain": [
       "                  실거래가아이디                 지번코드  시군구코드 자치구명       법정동코드  법정동명  \\\n",
       "0  11110-2020-4-0001489-1  1111017500101790012  11110  종로구  1111017500   숭인동   \n",
       "1  11110-2020-4-0001490-1  1111017500101790012  11110  종로구  1111017500   숭인동   \n",
       "2  11110-2020-4-0001450-1  1111017100100040000  11110  종로구  1111017100  명륜2가   \n",
       "3  11110-2020-4-0001541-1  1111017400106390050  11110  종로구  1111017400   창신동   \n",
       "4  11110-2020-4-0001491-1  1111017500101790012  11110  종로구  1111017500   숭인동   \n",
       "\n",
       "   신고년도  업무구분코드 업무구분  물건번호  대지권면적   건물면적 관리구분코드   층정보  건물주용도코드 건물주용도  \\\n",
       "0  2020       4   신고     1  31.82  72.16      0   1.0     2002  연립주택   \n",
       "1  2020       4   신고     1  17.26  39.15      0   2.0     2002  연립주택   \n",
       "2  2020       4   신고     1   0.00  84.90      0  12.0     2001   아파트   \n",
       "3  2020       4   신고     1   0.00  59.22      0   2.0     2001   아파트   \n",
       "4  2020       4   신고     1  18.39  41.71      0   2.0     2002  연립주택   \n",
       "\n",
       "        물건금액    건축년도    건물명  \n",
       "0  200000000  2003.0  카라하우스  \n",
       "1  119000000  2003.0  카라하우스  \n",
       "2  890000000  1995.0    아남1  \n",
       "3  330000000  1999.0     덕산  \n",
       "4  127000000  2003.0  카라하우스  "
      ]
     },
     "execution_count": 7,
     "metadata": {},
     "output_type": "execute_result"
    }
   ],
   "source": [
    "sp.head()"
   ]
  },
  {
   "cell_type": "code",
   "execution_count": 10,
   "metadata": {},
   "outputs": [],
   "source": [
    "sp = sp.drop(['지번코드','시군구코드','실거래가아이디','법정동코드','신고년도','업무구분코드','업무구분','물건번호','대지권면적','관리구분코드','건물주용도코드'], axis='columns')"
   ]
  },
  {
   "cell_type": "code",
   "execution_count": 35,
   "metadata": {},
   "outputs": [],
   "source": [
    "sp = sp.rename(columns = {'자치구명':'City','용도' : 'Principal Use', '면적' : 'Area', '층' : 'Floor', '실거래가' : 'Price','건물명':'Name'})"
   ]
  },
  {
   "cell_type": "code",
   "execution_count": 36,
   "metadata": {},
   "outputs": [
    {
     "data": {
      "text/html": [
       "<div>\n",
       "<style scoped>\n",
       "    .dataframe tbody tr th:only-of-type {\n",
       "        vertical-align: middle;\n",
       "    }\n",
       "\n",
       "    .dataframe tbody tr th {\n",
       "        vertical-align: top;\n",
       "    }\n",
       "\n",
       "    .dataframe thead th {\n",
       "        text-align: right;\n",
       "    }\n",
       "</style>\n",
       "<table border=\"1\" class=\"dataframe\">\n",
       "  <thead>\n",
       "    <tr style=\"text-align: right;\">\n",
       "      <th></th>\n",
       "      <th>City</th>\n",
       "      <th>법정동명</th>\n",
       "      <th>Area</th>\n",
       "      <th>Floor</th>\n",
       "      <th>Principal Use</th>\n",
       "      <th>Price</th>\n",
       "      <th>건축년도</th>\n",
       "      <th>Name</th>\n",
       "    </tr>\n",
       "  </thead>\n",
       "  <tbody>\n",
       "    <tr>\n",
       "      <th>0</th>\n",
       "      <td>Jongro</td>\n",
       "      <td>숭인동</td>\n",
       "      <td>72.16</td>\n",
       "      <td>1.0</td>\n",
       "      <td>연립주택</td>\n",
       "      <td>200000000</td>\n",
       "      <td>2003.0</td>\n",
       "      <td>카라하우스</td>\n",
       "    </tr>\n",
       "    <tr>\n",
       "      <th>1</th>\n",
       "      <td>Jongro</td>\n",
       "      <td>숭인동</td>\n",
       "      <td>39.15</td>\n",
       "      <td>2.0</td>\n",
       "      <td>연립주택</td>\n",
       "      <td>119000000</td>\n",
       "      <td>2003.0</td>\n",
       "      <td>카라하우스</td>\n",
       "    </tr>\n",
       "    <tr>\n",
       "      <th>2</th>\n",
       "      <td>Jongro</td>\n",
       "      <td>명륜2가</td>\n",
       "      <td>84.90</td>\n",
       "      <td>12.0</td>\n",
       "      <td>아파트</td>\n",
       "      <td>890000000</td>\n",
       "      <td>1995.0</td>\n",
       "      <td>아남1</td>\n",
       "    </tr>\n",
       "    <tr>\n",
       "      <th>3</th>\n",
       "      <td>Jongro</td>\n",
       "      <td>창신동</td>\n",
       "      <td>59.22</td>\n",
       "      <td>2.0</td>\n",
       "      <td>아파트</td>\n",
       "      <td>330000000</td>\n",
       "      <td>1999.0</td>\n",
       "      <td>덕산</td>\n",
       "    </tr>\n",
       "    <tr>\n",
       "      <th>4</th>\n",
       "      <td>Jongro</td>\n",
       "      <td>숭인동</td>\n",
       "      <td>41.71</td>\n",
       "      <td>2.0</td>\n",
       "      <td>연립주택</td>\n",
       "      <td>127000000</td>\n",
       "      <td>2003.0</td>\n",
       "      <td>카라하우스</td>\n",
       "    </tr>\n",
       "  </tbody>\n",
       "</table>\n",
       "</div>"
      ],
      "text/plain": [
       "     City  법정동명   Area  Floor Principal Use      Price    건축년도   Name\n",
       "0  Jongro   숭인동  72.16    1.0          연립주택  200000000  2003.0  카라하우스\n",
       "1  Jongro   숭인동  39.15    2.0          연립주택  119000000  2003.0  카라하우스\n",
       "2  Jongro  명륜2가  84.90   12.0           아파트  890000000  1995.0    아남1\n",
       "3  Jongro   창신동  59.22    2.0           아파트  330000000  1999.0     덕산\n",
       "4  Jongro   숭인동  41.71    2.0          연립주택  127000000  2003.0  카라하우스"
      ]
     },
     "execution_count": 36,
     "metadata": {},
     "output_type": "execute_result"
    }
   ],
   "source": [
    "sp.head()"
   ]
  },
  {
   "cell_type": "code",
   "execution_count": 14,
   "metadata": {},
   "outputs": [
    {
     "name": "stdout",
     "output_type": "stream",
     "text": [
      "<class 'pandas.core.frame.DataFrame'>\n",
      "RangeIndex: 83155 entries, 0 to 83154\n",
      "Data columns (total 8 columns):\n",
      " #   Column  Non-Null Count  Dtype  \n",
      "---  ------  --------------  -----  \n",
      " 0   자치구명    83155 non-null  object \n",
      " 1   법정동명    83155 non-null  object \n",
      " 2   면적      83155 non-null  float64\n",
      " 3   층       77063 non-null  float64\n",
      " 4   용도      83155 non-null  object \n",
      " 5   실거래가    83155 non-null  int64  \n",
      " 6   건축년도    83041 non-null  float64\n",
      " 7   건물명     77063 non-null  object \n",
      "dtypes: float64(3), int64(1), object(4)\n",
      "memory usage: 5.1+ MB\n"
     ]
    }
   ],
   "source": [
    "sp.info()"
   ]
  },
  {
   "cell_type": "code",
   "execution_count": 15,
   "metadata": {
    "scrolled": false
   },
   "outputs": [
    {
     "data": {
      "text/plain": [
       "면적      7.125701e+01\n",
       "층       6.777883e+00\n",
       "실거래가    5.763515e+08\n",
       "건축년도    1.987623e+03\n",
       "dtype: float64"
      ]
     },
     "execution_count": 15,
     "metadata": {},
     "output_type": "execute_result"
    }
   ],
   "source": [
    "sp.mean()"
   ]
  },
  {
   "cell_type": "code",
   "execution_count": 37,
   "metadata": {},
   "outputs": [],
   "source": [
    "# 호환성 문제로 영문으로 rename\n",
    "sp.loc[sp['City']=='송파구','City'] = 'Songpa'\n",
    "sp.loc[sp['City']=='종로구','City'] = 'Jongro'\n",
    "sp.loc[sp['City']=='강남구','City'] = 'Gangnam'\n",
    "sp.loc[sp['City']=='강동구','City'] = 'Gangdong'\n",
    "sp.loc[sp['City']=='서초구','City'] = 'Seocho'\n",
    "sp.loc[sp['City']=='동작구','City'] = 'Dongjak'\n",
    "sp.loc[sp['City']=='관악구','City'] = 'Gwanak'\n",
    "sp.loc[sp['City']=='영등포구','City'] = 'Ydp'\n",
    "sp.loc[sp['City']=='금천구','City'] = 'Geumcheon'\n",
    "sp.loc[sp['City']=='구로구','City'] = 'Guro'\n",
    "sp.loc[sp['City']=='양천구','City'] = 'Yangcheon'\n",
    "sp.loc[sp['City']=='강서구','City'] = 'Gangseo'\n",
    "sp.loc[sp['City']=='광진구','City'] = 'Gwangjin'\n",
    "sp.loc[sp['City']=='성동구','City'] = 'Seongdong'\n",
    "sp.loc[sp['City']=='용산구','City'] = 'Yongsan'\n",
    "sp.loc[sp['City']=='중구','City'] = 'Jung'\n",
    "sp.loc[sp['City']=='마포구','City'] = 'Mapo'\n",
    "sp.loc[sp['City']=='서대문구','City'] = 'Sdm'\n",
    "sp.loc[sp['City']=='은평구','City'] = 'Eunpyeong'\n",
    "sp.loc[sp['City']=='성북구','City'] = 'Sungbuk'\n",
    "sp.loc[sp['City']=='동대문구','City'] = 'Ddm'\n",
    "sp.loc[sp['City']=='중랑구','City'] = 'Jongnang'\n",
    "sp.loc[sp['City']=='노원구','City'] = 'Nowon'\n",
    "sp.loc[sp['City']=='강북구','City'] = 'Gangbuk'\n",
    "sp.loc[sp['City']=='도봉구','City'] = 'Dobong'"
   ]
  },
  {
   "cell_type": "code",
   "execution_count": 44,
   "metadata": {
    "scrolled": false
   },
   "outputs": [
    {
     "data": {
      "image/png": "[encoded data removed]",
      "text/plain": [
       "<Figure size 1800x1080 with 1 Axes>"
      ]
     },
     "metadata": {
      "needs_background": "light"
     },
     "output_type": "display_data"
    }
   ],
   "source": [
    "# Column, Bar 차트 제작\n",
    "import matplotlib.pyplot as plt\n",
    "import seaborn as sbn\n",
    "plt.figure(figsize = (25,15))\n",
    "\n",
    "seoul = sbn.countplot('City', data = sp)\n",
    "seoul.set_title('Trading Volume of Real Estate', fontsize = 24)\n",
    "seoul.set_xlabel('City', fontdict = {'size':20})\n",
    "seoul.set_ylabel('Trading Volume', fontdict = {'size':20})\n",
    "plt.show()\n"
   ]
  }
 ],
 "metadata": {
  "kernelspec": {
   "display_name": "Python 3",
   "language": "python",
   "name": "python3"
  },
  "language_info": {
   "codemirror_mode": {
    "name": "ipython",
    "version": 3
   },
   "file_extension": ".py",
   "mimetype": "text/x-python",
   "name": "python",
   "nbconvert_exporter": "python",
   "pygments_lexer": "ipython3",
   "version": "3.8.3"
  }
 },
 "nbformat": 4,
 "nbformat_minor": 4
}
